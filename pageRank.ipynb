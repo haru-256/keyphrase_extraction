{
 "cells": [
  {
   "cell_type": "code",
   "execution_count": 1,
   "metadata": {},
   "outputs": [],
   "source": [
    "import networkx as nx\n",
    "import numpy as np\n",
    "import pandas as pd\n",
    "import scipy"
   ]
  },
  {
   "cell_type": "markdown",
   "metadata": {},
   "source": [
    "# build graph"
   ]
  },
  {
   "cell_type": "code",
   "execution_count": 2,
   "metadata": {},
   "outputs": [
    {
     "data": {
      "image/png": "[encoded data removed]",
      "text/plain": [
       "<Figure size 432x288 with 1 Axes>"
      ]
     },
     "metadata": {},
     "output_type": "display_data"
    }
   ],
   "source": [
    "G = nx.Graph()\n",
    "\n",
    "G.add_edge(\"a\", \"b\", weight=3)\n",
    "G.add_edge(\"a\", \"c\")\n",
    "G.add_edge(\"c\", \"d\")\n",
    "G.add_edge(\"c\", \"e\", weight=4)\n",
    "G.add_edge(\"c\", \"f\")\n",
    "G.add_edge(\"a\", \"d\")\n",
    "G.add_node(\"g\")\n",
    "\n",
    "pos = nx.spring_layout(G)  # positions for all nodes\n",
    "\n",
    "# nodes\n",
    "nx.draw_networkx_nodes(G, pos, node_size=700)\n",
    "\n",
    "# edges\n",
    "nx.draw_networkx_edges(G, pos, edgelist=G.edges, width=6)\n",
    "\n",
    "# labels\n",
    "nx.draw_networkx_labels(G, pos, font_size=20, font_family=\"sans-serif\")\n",
    "labels = nx.get_edge_attributes(G,'weight')\n",
    "nx.draw_networkx_edge_labels(G, pos, edge_labels=labels);"
   ]
  },
  {
   "cell_type": "code",
   "execution_count": 3,
   "metadata": {},
   "outputs": [
    {
     "name": "stdout",
     "output_type": "stream",
     "text": [
      "[[0. 1. 1. 1. 0. 0. 0.]\n",
      " [1. 0. 0. 0. 0. 0. 0.]\n",
      " [1. 0. 0. 1. 1. 1. 0.]\n",
      " [1. 0. 1. 0. 0. 0. 0.]\n",
      " [0. 0. 1. 0. 0. 0. 0.]\n",
      " [0. 0. 1. 0. 0. 0. 0.]\n",
      " [0. 0. 0. 0. 0. 0. 0.]]\n"
     ]
    },
    {
     "data": {
      "text/html": [
       "<div>\n",
       "<style scoped>\n",
       "    .dataframe tbody tr th:only-of-type {\n",
       "        vertical-align: middle;\n",
       "    }\n",
       "\n",
       "    .dataframe tbody tr th {\n",
       "        vertical-align: top;\n",
       "    }\n",
       "\n",
       "    .dataframe thead th {\n",
       "        text-align: right;\n",
       "    }\n",
       "</style>\n",
       "<table border=\"1\" class=\"dataframe\">\n",
       "  <thead>\n",
       "    <tr style=\"text-align: right;\">\n",
       "      <th></th>\n",
       "      <th>0</th>\n",
       "      <th>1</th>\n",
       "      <th>2</th>\n",
       "      <th>3</th>\n",
       "      <th>4</th>\n",
       "      <th>5</th>\n",
       "      <th>6</th>\n",
       "    </tr>\n",
       "  </thead>\n",
       "  <tbody>\n",
       "    <tr>\n",
       "      <th>0</th>\n",
       "      <td>0.071429</td>\n",
       "      <td>0.238095</td>\n",
       "      <td>0.238095</td>\n",
       "      <td>0.238095</td>\n",
       "      <td>0.071429</td>\n",
       "      <td>0.071429</td>\n",
       "      <td>0.071429</td>\n",
       "    </tr>\n",
       "    <tr>\n",
       "      <th>1</th>\n",
       "      <td>0.571429</td>\n",
       "      <td>0.071429</td>\n",
       "      <td>0.071429</td>\n",
       "      <td>0.071429</td>\n",
       "      <td>0.071429</td>\n",
       "      <td>0.071429</td>\n",
       "      <td>0.071429</td>\n",
       "    </tr>\n",
       "    <tr>\n",
       "      <th>2</th>\n",
       "      <td>0.196429</td>\n",
       "      <td>0.071429</td>\n",
       "      <td>0.071429</td>\n",
       "      <td>0.196429</td>\n",
       "      <td>0.196429</td>\n",
       "      <td>0.196429</td>\n",
       "      <td>0.071429</td>\n",
       "    </tr>\n",
       "    <tr>\n",
       "      <th>3</th>\n",
       "      <td>0.321429</td>\n",
       "      <td>0.071429</td>\n",
       "      <td>0.321429</td>\n",
       "      <td>0.071429</td>\n",
       "      <td>0.071429</td>\n",
       "      <td>0.071429</td>\n",
       "      <td>0.071429</td>\n",
       "    </tr>\n",
       "    <tr>\n",
       "      <th>4</th>\n",
       "      <td>0.071429</td>\n",
       "      <td>0.071429</td>\n",
       "      <td>0.571429</td>\n",
       "      <td>0.071429</td>\n",
       "      <td>0.071429</td>\n",
       "      <td>0.071429</td>\n",
       "      <td>0.071429</td>\n",
       "    </tr>\n",
       "    <tr>\n",
       "      <th>5</th>\n",
       "      <td>0.071429</td>\n",
       "      <td>0.071429</td>\n",
       "      <td>0.571429</td>\n",
       "      <td>0.071429</td>\n",
       "      <td>0.071429</td>\n",
       "      <td>0.071429</td>\n",
       "      <td>0.071429</td>\n",
       "    </tr>\n",
       "    <tr>\n",
       "      <th>6</th>\n",
       "      <td>0.142857</td>\n",
       "      <td>0.142857</td>\n",
       "      <td>0.142857</td>\n",
       "      <td>0.142857</td>\n",
       "      <td>0.142857</td>\n",
       "      <td>0.142857</td>\n",
       "      <td>0.142857</td>\n",
       "    </tr>\n",
       "  </tbody>\n",
       "</table>\n",
       "</div>"
      ],
      "text/plain": [
       "          0         1         2         3         4         5         6\n",
       "0  0.071429  0.238095  0.238095  0.238095  0.071429  0.071429  0.071429\n",
       "1  0.571429  0.071429  0.071429  0.071429  0.071429  0.071429  0.071429\n",
       "2  0.196429  0.071429  0.071429  0.196429  0.196429  0.196429  0.071429\n",
       "3  0.321429  0.071429  0.321429  0.071429  0.071429  0.071429  0.071429\n",
       "4  0.071429  0.071429  0.571429  0.071429  0.071429  0.071429  0.071429\n",
       "5  0.071429  0.071429  0.571429  0.071429  0.071429  0.071429  0.071429\n",
       "6  0.142857  0.142857  0.142857  0.142857  0.142857  0.142857  0.142857"
      ]
     },
     "execution_count": 3,
     "metadata": {},
     "output_type": "execute_result"
    }
   ],
   "source": [
    "# nx.google_matrix\n",
    "\n",
    "nodelist = list(G)\n",
    "# to array\n",
    "M = nx.to_numpy_array(G, nodelist=nodelist, weight=None)\n",
    "# M = nx.to_numpy_array(G, nodelist=nodelist, weight=\"weight\")\n",
    "print(M)\n",
    "N = len(G)\n",
    "# calc teleport\n",
    "p = np.repeat(1.0 / N, N)\n",
    "dangling_weights = p\n",
    "\n",
    "dangling_nodes = np.where(M.sum(axis=1) == 0)[0]\n",
    "for node in dangling_nodes:\n",
    "    M[node] = dangling_weights\n",
    "M /= M.sum(axis=1).reshape(-1, 1)  # Normalize rows to sum to 1\n",
    "\n",
    "alpha = 0.5\n",
    "googleM = alpha * M + (1 - alpha) * p\n",
    "\n",
    "pd.DataFrame(googleM)"
   ]
  },
  {
   "cell_type": "code",
   "execution_count": 31,
   "metadata": {},
   "outputs": [
    {
     "name": "stderr",
     "output_type": "stream",
     "text": [
      "/Users/yohei/Documents/keyphrase_extraction/.venv/lib/python3.7/site-packages/ipykernel_launcher.py:12: DeprecationWarning: scipy.where is deprecated and will be removed in SciPy 2.0.0, use numpy.where instead\n",
      "  if sys.path[0] == '':\n",
      "/Users/yohei/Documents/keyphrase_extraction/.venv/lib/python3.7/site-packages/ipykernel_launcher.py:15: DeprecationWarning: scipy.repeat is deprecated and will be removed in SciPy 2.0.0, use numpy.repeat instead\n",
      "  from ipykernel import kernelapp as app\n"
     ]
    }
   ],
   "source": [
    "# nx.pagerank_scipy\n",
    "\n",
    "nodelist = list(G)\n",
    "# to array\n",
    "M = nx.to_scipy_sparse_matrix(G, nodelist=nodelist, weight=None, dtype=\"float\")\n",
    "S = np.array(M.sum(axis=1)).flatten()\n",
    "S[S != 0] = 1.0 / S[S != 0]\n",
    "Q = scipy.sparse.spdiags(S.T, 0, *M.shape, format='csr')\n",
    "M = Q * M\n",
    "p = np.repeat(1.0 / N, N)\n",
    "dangling_weights = p\n",
    "is_dangling = scipy.where(S == 0)[0]\n",
    "\n",
    "# power iteration: make up to max_iter iterations\n",
    "x = scipy.repeat(1.0 / N, N) # initial vector\n",
    "# for _ in range(max_iter):\n",
    "xlast = x\n",
    "x = alpha * (x * M + sum(x[is_dangling]) * dangling_weights) + \\\n",
    "    (1 - alpha) * p\n",
    "    # check convergence, l1 norm\n",
    "#     err = scipy.absolute(x - xlast).sum()\n",
    "#     if err < N * tol:\n",
    "#         return dict(zip(nodelist, map(float, x)))"
   ]
  },
  {
   "cell_type": "code",
   "execution_count": 33,
   "metadata": {},
   "outputs": [
    {
     "data": {
      "text/plain": [
       "(7,)"
      ]
     },
     "execution_count": 33,
     "metadata": {},
     "output_type": "execute_result"
    }
   ],
   "source": [
    "x.shape"
   ]
  },
  {
   "cell_type": "code",
   "execution_count": 36,
   "metadata": {},
   "outputs": [
    {
     "data": {
      "text/plain": [
       "(7, 7)"
      ]
     },
     "execution_count": 36,
     "metadata": {},
     "output_type": "execute_result"
    }
   ],
   "source": [
    "M.shape"
   ]
  },
  {
   "cell_type": "code",
   "execution_count": 38,
   "metadata": {},
   "outputs": [
    {
     "data": {
      "text/plain": [
       "array([0.23809524, 0.06887755, 0.3295068 , 0.13988095, 0.0710034 ,\n",
       "       0.0710034 , 0.        ])"
      ]
     },
     "execution_count": 38,
     "metadata": {},
     "output_type": "execute_result"
    }
   ],
   "source": [
    "np.dot(x, M.toarray())"
   ]
  },
  {
   "cell_type": "code",
   "execution_count": 32,
   "metadata": {},
   "outputs": [
    {
     "data": {
      "text/plain": [
       "array([0.23809524, 0.06887755, 0.3295068 , 0.13988095, 0.0710034 ,\n",
       "       0.0710034 , 0.        ])"
      ]
     },
     "execution_count": 32,
     "metadata": {},
     "output_type": "execute_result"
    }
   ],
   "source": [
    "x * M"
   ]
  },
  {
   "cell_type": "code",
   "execution_count": 29,
   "metadata": {},
   "outputs": [
    {
     "data": {
      "text/plain": [
       "array([0.14285714, 0.14285714, 0.14285714, 0.14285714, 0.14285714,\n",
       "       0.14285714, 0.14285714])"
      ]
     },
     "execution_count": 29,
     "metadata": {},
     "output_type": "execute_result"
    }
   ],
   "source": [
    "p = np.repeat(1.0 / N, N)\n",
    "dangling_weights = p"
   ]
  },
  {
   "cell_type": "code",
   "execution_count": 16,
   "metadata": {},
   "outputs": [
    {
     "data": {
      "text/plain": [
       "array([0, 1, 0, 0, 1, 1, 0])"
      ]
     },
     "execution_count": 16,
     "metadata": {},
     "output_type": "execute_result"
    }
   ],
   "source": [
    "F = S.copy()\n",
    "F[F!=0] = 1 / F[F!=0]\n",
    "F"
   ]
  },
  {
   "cell_type": "code",
   "execution_count": null,
   "metadata": {},
   "outputs": [],
   "source": []
  },
  {
   "cell_type": "code",
   "execution_count": 5,
   "metadata": {},
   "outputs": [
    {
     "data": {
      "text/plain": [
       "array([0, 1, 0, 0, 1, 1, 0])"
      ]
     },
     "execution_count": 5,
     "metadata": {},
     "output_type": "execute_result"
    }
   ],
   "source": [
    "H = F.copy()\n",
    "H[H != 0] = 1.0 / H[H != 0]\n",
    "H"
   ]
  },
  {
   "cell_type": "code",
   "execution_count": 6,
   "metadata": {},
   "outputs": [
    {
     "data": {
      "text/plain": [
       "array([0.33333333, 1.        , 0.25      , 0.5       , 1.        ,\n",
       "       1.        ])"
      ]
     },
     "execution_count": 6,
     "metadata": {},
     "output_type": "execute_result"
    }
   ],
   "source": [
    "1.0 / F[F != 0]"
   ]
  },
  {
   "cell_type": "code",
   "execution_count": null,
   "metadata": {},
   "outputs": [],
   "source": []
  }
 ],
 "metadata": {
  "kernelspec": {
   "display_name": "Python 3",
   "language": "python",
   "name": "python3"
  },
  "language_info": {
   "codemirror_mode": {
    "name": "ipython",
    "version": 3
   },
   "file_extension": ".py",
   "mimetype": "text/x-python",
   "name": "python",
   "nbconvert_exporter": "python",
   "pygments_lexer": "ipython3",
   "version": "3.7.8"
  },
  "toc": {
   "base_numbering": 1,
   "nav_menu": {},
   "number_sections": true,
   "sideBar": true,
   "skip_h1_title": false,
   "title_cell": "Table of Contents",
   "title_sidebar": "Contents",
   "toc_cell": false,
   "toc_position": {},
   "toc_section_display": true,
   "toc_window_display": false
  }
 },
 "nbformat": 4,
 "nbformat_minor": 4
}
